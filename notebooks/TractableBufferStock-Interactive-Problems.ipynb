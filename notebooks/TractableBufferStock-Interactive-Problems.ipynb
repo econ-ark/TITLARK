{
 "cells": [
  {
   "cell_type": "markdown",
   "metadata": {},
   "source": [
    "# The Tractable Buffer Stock Model\n",
    "\n",
    "<p style=\"text-align: center;\"><small><small><small>Generator: BufferStockTheory-make/notebooks_byname</small></small></small></p>"
   ]
  },
  {
   "cell_type": "markdown",
   "metadata": {},
   "source": [
    "The [TractableBufferStock](http://www.econ2.jhu.edu/people/ccarroll/public/LectureNotes/Consumption/TractableBufferStock/) model is a (relatively) simple framework that captures all of the qualitative, and many of the quantitative features of optimal consumption in the presence of labor income uncertainty.  "
   ]
  },
  {
   "cell_type": "code",
   "execution_count": 1,
   "metadata": {
    "code_folding": [
     0
    ]
   },
   "outputs": [],
   "source": [
    "# This cell has a bit of (uninteresting) initial setup.\n",
    "\n",
    "import matplotlib.pyplot as plt\n",
    "\n",
    "import numpy as np\n",
    "import HARK \n",
    "from time import clock\n",
    "from copy import deepcopy\n",
    "mystr = lambda number : \"{:.3f}\".format(number)\n",
    "\n",
    "from ipywidgets import interact, interactive, fixed, interact_manual\n",
    "import ipywidgets as widgets\n",
    "from HARK.utilities import plotFuncs"
   ]
  },
  {
   "cell_type": "code",
   "execution_count": 2,
   "metadata": {
    "code_folding": [
     0
    ]
   },
   "outputs": [],
   "source": [
    "# Import the model from the toolkit\n",
    "from HARK.ConsumptionSaving.TractableBufferStockModel import TractableConsumerType"
   ]
  },
  {
   "cell_type": "markdown",
   "metadata": {},
   "source": [
    "The key assumption behind the model's tractability is that there is only a single, stark form of uncertainty:  So long as an employed consumer remains employed, that consumer's labor income $P$ will rise at a constant rate $\\Gamma$:\n",
    "\\begin{align}\n",
    "P_{t+1} &= \\Gamma P_{t}\n",
    "\\end{align}\n",
    "\n",
    "But, between any period and the next, there is constant hazard $p$ that the consumer will transition to the \"unemployed\" state. Unemployment is irreversible, like retirement or disability.  When unemployed, the consumer receives a fixed amount of income (for simplicity, zero).  (See the [linked handout](http://www.econ2.jhu.edu/people/ccarroll/public/LectureNotes/Consumption/TractableBufferStock/) for details of the model).\n",
    "\n",
    "Defining $G$ as the growth rate of aggregate wages/productivity, we assume that idiosyncratic wages grow by $\\Gamma = G/(1-\\mho)$ where $(1-\\mho)^{-1}$ is the growth rate of idiosyncratic productivity ('on-the-job learning', say).  (This assumption about the relation between idiosyncratic income growth and idiosyncratic risk means that an increase in $\\mho$ is a mean-preserving spread in human wealth; again see [the lecture notes](http://www.econ2.jhu.edu/people/ccarroll/public/LectureNotes/Consumption/TractableBufferStock/)).\n",
    "\n",
    "Under CRRA utility $u(C) = \\frac{C^{1-\\rho}}{1-\\rho}$, the problem can be normalized by $P$.  Using lower case for normalized varibles (e.g., $c = C/P$), the normalized problem can be expressed by the Bellman equation:\n",
    "\n",
    "\\begin{eqnarray*}\n",
    "v_t({m}_t) &=& \\max_{{c}_t} ~ U({c}_t) + \\beta \\Gamma^{1-\\rho} \\overbrace{\\mathbb{E}[v_{t+1}^{\\bullet}]}^{=p v_{t+1}^{u}+(1-p)v_{t+1}^{e}} \\\\\n",
    "& s.t. & \\\\\n",
    "{m}_{t+1} &=& (m_{t}-c_{t})\\mathcal{R}  + \\mathbb{1}_{t+1},\n",
    "\\end{eqnarray*}\n",
    "where $\\mathcal{R} = R/\\Gamma$, and $\\mathbb{1}_{t+1} = 1$ if the consumer is employed (and zero if unemployed).\n",
    "\n",
    "Under plausible parameter values the model has a target level of $\\check{m} = M/P$ (market resources to permanent income) with an analytical solution that exhibits plausible relationships among all of the parameters.  \n",
    "\n",
    "Defining $\\gamma = \\log \\Gamma$ and $r = \\log R$, the handout shows that an approximation of the target is given by the formula:\n",
    "\n",
    "\\begin{align}\n",
    "\\check{m} & = 1 + \\left(\\frac{1}{(\\gamma-r)+(1+(\\gamma/\\mho)(1-(\\gamma/\\mho)(\\rho-1)/2))}\\right)\n",
    "\\end{align}\n"
   ]
  },
  {
   "cell_type": "code",
   "execution_count": 3,
   "metadata": {
    "code_folding": [
     0
    ]
   },
   "outputs": [],
   "source": [
    "# Define a parameter dictionary and representation of the agents for the tractable buffer stock model\n",
    "TBS_dictionary =  {'UnempPrb' : .00625,    # Prob of becoming unemployed; working life of 1/UnempProb = 160 qtrs\n",
    "                   'DiscFac' : 0.975,      # Intertemporal discount factor\n",
    "                   'Rfree' : 1.01,         # Risk-free interest factor on assets\n",
    "                   'PermGroFac' : 1.0025,  # Permanent income growth factor (uncompensated)\n",
    "                   'CRRA' : 2.5}           # Coefficient of relative risk aversion\n",
    "MyTBStype = TractableConsumerType(**TBS_dictionary)"
   ]
  },
  {
   "cell_type": "markdown",
   "metadata": {},
   "source": [
    "## Target Wealth\n",
    "\n",
    "Whether the model exhibits a \"target\" or \"stable\" level of the wealth-to-permanent-income ratio for employed consumers depends on whether the 'Growth Impatience Condition' (the GIC) holds:\n",
    "\n",
    "\\begin{align}\\label{eq:GIC}\n",
    " \\left(\\frac{(R \\beta (1-\\mho))^{1/\\rho}}{\\Gamma}\\right)  & <  1\n",
    "\\\\ \\left(\\frac{(R \\beta (1-\\mho))^{1/\\rho}}{G (1-\\mho)}\\right)  &<  1\n",
    "\\\\ \\left(\\frac{(R \\beta)^{1/\\rho}}{G} (1-\\mho)^{-\\rho}\\right)  &<  1\n",
    "\\end{align}\n",
    "and recall (from [PerfForesightCRRA](http://econ.jhu.edu/people/ccarroll/public/lecturenotes/consumption/PerfForesightCRRA/)) that the perfect foresight 'Growth Impatience Factor' is \n",
    "\\begin{align}\\label{eq:PFGIC}\n",
    "\\left(\\frac{(R \\beta)^{1/\\rho}}{G}\\right)  &<  1\n",
    "\\end{align}\n",
    "so since $\\mho > 0$, uncertainty makes it harder to be 'impatient.'  To understand this, think of someone who, in the perfect foresight model, was 'poised': Exactly on the knife edge between patience and impatience.  Now add a precautionary saving motive; that person will now (to some degree) be pushed off the knife edge in the direction of 'patience.'  So, in the presence of uncertainty, the conditions on parameters other than $\\mho$ must be stronger in order to guarantee 'impatience' in the sense of wanting to spend enough for your wealth to decline _despite_ the extra precautionary motive."
   ]
  },
  {
   "cell_type": "code",
   "execution_count": 4,
   "metadata": {
    "code_folding": [
     0,
     3
    ]
   },
   "outputs": [
    {
     "data": {
      "application/vnd.jupyter.widget-view+json": {
       "model_id": "0bc9ab5bc75f43d29652727eb2874a8a",
       "version_major": 2,
       "version_minor": 0
      },
      "text/plain": [
       "interactive(children=(FloatSlider(value=0.975, continuous_update=False, description='$\\\\beta$', max=0.99, min=…"
      ]
     },
     "metadata": {},
     "output_type": "display_data"
    }
   ],
   "source": [
    "# Define a function that plots the employed consumption function and sustainable consumption function \n",
    "# for given parameter values\n",
    "\n",
    "def makeTBSplot(DiscFac,CRRA,Rfree,PermGroFac,UnempPrb,mMax,mMin,cMin,cMax,plot_emp,plot_ret,plot_mSS,show_targ):\n",
    "    MyTBStype.DiscFac = DiscFac\n",
    "    MyTBStype.CRRA = CRRA\n",
    "    MyTBStype.Rfree = Rfree\n",
    "    MyTBStype.PermGroFac = PermGroFac\n",
    "    MyTBStype.UnempPrb = UnempPrb\n",
    "    \n",
    "    try:\n",
    "        MyTBStype.solve()\n",
    "    except:\n",
    "        print('Unable to solve; parameter values may be too close to their limiting values')    \n",
    "    \n",
    "    plt.xlabel('Market resources ${m}_t$')\n",
    "    plt.ylabel('Consumption ${c}_t$')\n",
    "    plt.ylim([cMin,cMax])\n",
    "    plt.xlim([mMin,mMax])\n",
    "    \n",
    "    m = np.linspace(mMin,mMax,num=100,endpoint=True)\n",
    "    if plot_emp:\n",
    "        c = MyTBStype.solution[0].cFunc(m)\n",
    "        c[m==0.] = 0.\n",
    "        plt.plot(m,c,'-b')\n",
    "        \n",
    "    if plot_mSS:\n",
    "        plt.plot([mMin,mMax],[(MyTBStype.PermGroFacCmp/MyTBStype.Rfree + mMin*(1.0-MyTBStype.PermGroFacCmp/MyTBStype.Rfree)),(MyTBStype.PermGroFacCmp/MyTBStype.Rfree + mMax*(1.0-MyTBStype.PermGroFacCmp/MyTBStype.Rfree))],'--k')\n",
    "        \n",
    "    if plot_ret:\n",
    "        c = MyTBStype.solution[0].cFunc_U(m)\n",
    "        plt.plot(m,c,'-g')\n",
    "    \n",
    "    if show_targ:\n",
    "        mTarg = MyTBStype.mTarg\n",
    "        cTarg = MyTBStype.cTarg\n",
    "        targ_label = r'$\\left(\\frac{1}{(\\gamma-r)+(1+(\\gamma/\\mho)(1-(\\gamma/\\mho)(\\rho-1)/2))}\\right) $' #+ mystr(mTarg) + '\\n$\\check{c}^* = $ ' + mystr(cTarg)\n",
    "        plt.annotate(targ_label,xy=(0.0,0.0),xytext=(0.2,0.1),textcoords='axes fraction',fontsize=18)\n",
    "        plt.plot(mTarg,cTarg,'ro')\n",
    "        plt.annotate('↙️ m target',(mTarg,cTarg),xytext=(0.25,0.2),ha='left',textcoords='offset points')\n",
    "    \n",
    "    plt.show()\n",
    "    return None\n",
    "\n",
    "# Define widgets to control various aspects of the plot\n",
    "\n",
    "# Define a slider for the discount factor\n",
    "DiscFac_widget = widgets.FloatSlider(\n",
    "    min=0.9,\n",
    "    max=0.99,\n",
    "    step=0.0002,\n",
    "    value=TBS_dictionary['DiscFac'], # Default value\n",
    "    continuous_update=False,\n",
    "    readout_format='.4f',\n",
    "    description='$\\\\beta$')\n",
    "\n",
    "# Define a slider for relative risk aversion\n",
    "CRRA_widget = widgets.FloatSlider(\n",
    "    min=1.0,\n",
    "    max=5.0,\n",
    "    step=0.01,\n",
    "    value=TBS_dictionary['CRRA'],  # Default value\n",
    "    continuous_update=False,\n",
    "    readout_format='.2f',\n",
    "    description='$\\\\rho$')\n",
    "\n",
    "# Define a slider for the interest factor\n",
    "Rfree_widget = widgets.FloatSlider(\n",
    "    min=1.01,\n",
    "    max=1.04,\n",
    "    step=0.0001,\n",
    "    value=TBS_dictionary['Rfree'],  # Default value\n",
    "    continuous_update=False,\n",
    "    readout_format='.4f',\n",
    "    description='$R$')\n",
    "\n",
    "\n",
    "# Define a slider for permanent income growth\n",
    "PermGroFac_widget = widgets.FloatSlider(\n",
    "    min=1.00,\n",
    "    max=1.015,\n",
    "    step=0.0002,\n",
    "    value=TBS_dictionary['PermGroFac'],  # Default value\n",
    "    continuous_update=False,\n",
    "    readout_format='.4f',\n",
    "    description='$G$')\n",
    "\n",
    "# Define a slider for unemployment (or retirement) probability\n",
    "UnempPrb_widget = widgets.FloatSlider(\n",
    "    min=0.000001,\n",
    "    max=TBS_dictionary['UnempPrb']*2, # Go up to twice the default value\n",
    "    step=0.00001,\n",
    "    value=TBS_dictionary['UnempPrb'],\n",
    "    continuous_update=False,\n",
    "    readout_format='.5f',\n",
    "    description='$\\\\mho$')\n",
    "\n",
    "# Define a text box for the lower bound of {m}_t\n",
    "mMin_widget = widgets.FloatText(\n",
    "    value=0.0,\n",
    "    step=0.1,\n",
    "    description='$m$ min',\n",
    "    disabled=False)\n",
    "\n",
    "# Define a text box for the upper bound of {m}_t\n",
    "mMax_widget = widgets.FloatText(\n",
    "    value=50.0,\n",
    "    step=0.1,\n",
    "    description='$m$ max',\n",
    "    disabled=False)\n",
    "\n",
    "# Define a text box for the lower bound of {c}_t\n",
    "cMin_widget = widgets.FloatText(\n",
    "    value=0.0,\n",
    "    step=0.1,\n",
    "    description='$c$ min',\n",
    "    disabled=False)\n",
    "\n",
    "# Define a text box for the upper bound of {c}_t\n",
    "cMax_widget = widgets.FloatText(\n",
    "    value=1.5,\n",
    "    step=0.1,\n",
    "    description='$c$ max',\n",
    "    disabled=False)\n",
    "\n",
    "# Define a check box for whether to plot the employed consumption function\n",
    "plot_emp_widget = widgets.Checkbox(\n",
    "    value=True,\n",
    "    description='Plot employed $c$ function',\n",
    "    disabled=False)\n",
    "\n",
    "# Define a check box for whether to plot the retired consumption function\n",
    "plot_ret_widget = widgets.Checkbox(\n",
    "    value=False,\n",
    "    description='Plot retired $c$ function',\n",
    "    disabled=False)\n",
    "\n",
    "# Define a check box for whether to plot the sustainable consumption line\n",
    "plot_mSS_widget = widgets.Checkbox(\n",
    "    value=True,\n",
    "    description='Plot sustainable $c$ line',\n",
    "    disabled=False)\n",
    "\n",
    "# Define a check box for whether to show the target annotation\n",
    "show_targ_widget = widgets.Checkbox(\n",
    "    value=True,\n",
    "    description = 'Show target $(m,c)$',\n",
    "    disabled = False)\n",
    "\n",
    "# Make an interactive plot of the tractable buffer stock solution\n",
    "\n",
    "# To make some of the widgets not appear, replace X_widget with fixed(desired_fixed_value) in the arguments below.\n",
    "interact(makeTBSplot,\n",
    "         DiscFac = DiscFac_widget,\n",
    "         CRRA = CRRA_widget,\n",
    "         Rfree = Rfree_widget,\n",
    "         PermGroFac = PermGroFac_widget,\n",
    "         UnempPrb = UnempPrb_widget,\n",
    "         mMin = mMin_widget,\n",
    "         mMax = mMax_widget,\n",
    "         cMin = cMin_widget,\n",
    "         cMax = cMax_widget,\n",
    "         show_targ = show_targ_widget,\n",
    "         plot_emp = plot_emp_widget,\n",
    "         plot_ret = plot_ret_widget,\n",
    "         plot_mSS = plot_mSS_widget,\n",
    "        );\n",
    "\n"
   ]
  },
  {
   "cell_type": "markdown",
   "metadata": {},
   "source": [
    "# PROBLEM\n",
    "\n",
    "Your task is to make a simplified slider that involves only $\\beta$.  \n",
    "\n",
    "First, create a variable `betaMax` equal to the value of $\\beta$ at which the Growth Impatience Factor is exactly equal to 1 (that is, the consumer is exactly on the border between patience and impatience).  (Hint: The formula for this is [here](http://www.econ2.jhu.edu/people/ccarroll/public/LectureNotes/Consumption/TractableBufferStock/#GIFMax)).\n",
    "\n",
    "Next, create a slider/'widget' like the one above, but where all variables except $\\beta$ are set to their default values, and the slider takes $\\beta$ from 0.05 below its default value up to `betaMax - 0.01`.  (The numerical solution algorithm becomes unstable when the GIC is too close to being violated, so you don't want to go all the way up to `betaMax.`)\n",
    "\n",
    "Explain the logic of the result that you see.\n",
    "\n",
    "(Hint: You do not need to copy and paste (then edit) the entire contents of the cell that creates the widgets above; you only need to modify the `DiscFac_widget`)"
   ]
  }
 ],
 "metadata": {
  "jupytext": {
   "cell_metadata_filter": "collapsed,code_folding",
   "encoding": "# -*- coding: utf-8 -*-",
   "formats": "ipynb,py:percent"
  },
  "kernel_info": {
   "name": "python3"
  },
  "kernelspec": {
   "display_name": "Python 3",
   "language": "python",
   "name": "python3"
  },
  "language_info": {
   "codemirror_mode": {
    "name": "ipython",
    "version": 3
   },
   "file_extension": ".py",
   "mimetype": "text/x-python",
   "name": "python",
   "nbconvert_exporter": "python",
   "pygments_lexer": "ipython3",
   "version": "3.6.9"
  },
  "latex_envs": {
   "LaTeX_envs_menu_present": true,
   "autoclose": false,
   "autocomplete": true,
   "bibliofile": "biblio.bib",
   "cite_by": "apalike",
   "current_citInitial": 1,
   "eqLabelWithNumbers": true,
   "eqNumInitial": 1,
   "hotkeys": {
    "equation": "Ctrl-E",
    "itemize": "Ctrl-I"
   },
   "labels_anchors": false,
   "latex_user_defs": false,
   "report_style_numbering": false,
   "user_envs_cfg": false
  },
  "nteract": {
   "version": "0.14.4"
  }
 },
 "nbformat": 4,
 "nbformat_minor": 4
}
